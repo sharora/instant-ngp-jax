{
 "cells": [
  {
   "cell_type": "code",
   "execution_count": 1,
   "metadata": {},
   "outputs": [
    {
     "name": "stderr",
     "output_type": "stream",
     "text": [
      "WARNING:absl:Tensorflow library not found, tensorflow.io.gfile operations will use native shim calls. GCS paths (i.e. 'gs://...') cannot be accessed.\n"
     ]
    },
    {
     "ename": "InvalidRngError",
     "evalue": "RNGs should be of shape (2,) or KeyArray in Module NerfMLP, but rngs are: 0.001 (https://flax.readthedocs.io/en/latest/api_reference/flax.errors.html#flax.errors.InvalidRngError)",
     "output_type": "error",
     "traceback": [
      "\u001b[0;31m---------------------------------------------------------------------------\u001b[0m",
      "\u001b[0;31mInvalidRngError\u001b[0m                           Traceback (most recent call last)",
      "Cell \u001b[0;32mIn[1], line 15\u001b[0m\n\u001b[1;32m     13\u001b[0m rng \u001b[38;5;241m=\u001b[39m random\u001b[38;5;241m.\u001b[39mPRNGKey(\u001b[38;5;241m0\u001b[39m)\n\u001b[1;32m     14\u001b[0m rng, input_rng \u001b[38;5;241m=\u001b[39m random\u001b[38;5;241m.\u001b[39msplit(rng)\n\u001b[0;32m---> 15\u001b[0m target_state \u001b[38;5;241m=\u001b[39m \u001b[43mcreate_train_state\u001b[49m\u001b[43m(\u001b[49m\u001b[43mNerfMLP\u001b[49m\u001b[43m(\u001b[49m\u001b[43m)\u001b[49m\u001b[43m,\u001b[49m\u001b[43m \u001b[49m\u001b[43minput_rng\u001b[49m\u001b[43m,\u001b[49m\u001b[43m \u001b[49m\u001b[38;5;241;43m0.001\u001b[39;49m\u001b[43m)\u001b[49m\n\u001b[1;32m     16\u001b[0m state \u001b[38;5;241m=\u001b[39m checkpoints\u001b[38;5;241m.\u001b[39mrestore_checkpoint(ckpt_dir\u001b[38;5;241m=\u001b[39m os\u001b[38;5;241m.\u001b[39mpath\u001b[38;5;241m.\u001b[39mabspath(\u001b[38;5;124m\"\u001b[39m\u001b[38;5;124m./checkpoints\u001b[39m\u001b[38;5;124m\"\u001b[39m), target\u001b[38;5;241m=\u001b[39mtarget_state)\n\u001b[1;32m     18\u001b[0m \u001b[38;5;66;03m# getting the test set\u001b[39;00m\n",
      "File \u001b[0;32m~/cse275/hw3/train_nerf.py:22\u001b[0m, in \u001b[0;36mcreate_train_state\u001b[0;34m(module, config, rng)\u001b[0m\n\u001b[1;32m     20\u001b[0m \u001b[38;5;28;01mdef\u001b[39;00m \u001b[38;5;21mcreate_train_state\u001b[39m(module, config, rng):\n\u001b[1;32m     21\u001b[0m \u001b[38;5;250m  \u001b[39m\u001b[38;5;124;03m\"\"\"Creates an initial `TrainState`.\"\"\"\u001b[39;00m\n\u001b[0;32m---> 22\u001b[0m   params \u001b[38;5;241m=\u001b[39m \u001b[43mmodule\u001b[49m\u001b[38;5;241;43m.\u001b[39;49m\u001b[43minit\u001b[49m\u001b[43m(\u001b[49m\u001b[43mrng\u001b[49m\u001b[43m,\u001b[49m\u001b[43m \u001b[49m\u001b[43mjnp\u001b[49m\u001b[38;5;241;43m.\u001b[39;49m\u001b[43mones\u001b[49m\u001b[43m(\u001b[49m\u001b[43m(\u001b[49m\u001b[38;5;241;43m256\u001b[39;49m\u001b[43m,\u001b[49m\u001b[38;5;241;43m3\u001b[39;49m\u001b[43m)\u001b[49m\u001b[43m)\u001b[49m\u001b[43m,\u001b[49m\u001b[43m \u001b[49m\u001b[43mjnp\u001b[49m\u001b[38;5;241;43m.\u001b[39;49m\u001b[43mones\u001b[49m\u001b[43m(\u001b[49m\u001b[43m(\u001b[49m\u001b[38;5;241;43m256\u001b[39;49m\u001b[43m,\u001b[49m\u001b[38;5;241;43m3\u001b[39;49m\u001b[43m)\u001b[49m\u001b[43m)\u001b[49m\u001b[43m)\u001b[49m[\u001b[38;5;124m'\u001b[39m\u001b[38;5;124mparams\u001b[39m\u001b[38;5;124m'\u001b[39m]\n\u001b[1;32m     23\u001b[0m   exponential_decay_scheduler \u001b[38;5;241m=\u001b[39m optax\u001b[38;5;241m.\u001b[39mexponential_decay(init_value\u001b[38;5;241m=\u001b[39mconfig[\u001b[38;5;124m\"\u001b[39m\u001b[38;5;124minit_lr\u001b[39m\u001b[38;5;124m\"\u001b[39m], transition_steps\u001b[38;5;241m=\u001b[39mconfig[\u001b[38;5;124m\"\u001b[39m\u001b[38;5;124mtransition_steps\u001b[39m\u001b[38;5;124m\"\u001b[39m],\n\u001b[1;32m     24\u001b[0m                                                       decay_rate\u001b[38;5;241m=\u001b[39mconfig[\u001b[38;5;124m\"\u001b[39m\u001b[38;5;124mdecay_rate\u001b[39m\u001b[38;5;124m\"\u001b[39m], transition_begin\u001b[38;5;241m=\u001b[39m\u001b[38;5;241m0\u001b[39m,\n\u001b[1;32m     25\u001b[0m                                                       staircase\u001b[38;5;241m=\u001b[39m\u001b[38;5;28;01mFalse\u001b[39;00m, end_value\u001b[38;5;241m=\u001b[39mconfig[\u001b[38;5;124m\"\u001b[39m\u001b[38;5;124mmin_lr\u001b[39m\u001b[38;5;124m\"\u001b[39m])\n\u001b[1;32m     26\u001b[0m   tx \u001b[38;5;241m=\u001b[39m optax\u001b[38;5;241m.\u001b[39madam(learning_rate\u001b[38;5;241m=\u001b[39mexponential_decay_scheduler)\n",
      "    \u001b[0;31m[... skipping hidden 3 frame]\u001b[0m\n",
      "File \u001b[0;32m/usr/local/lib/python3.10/dist-packages/flax/linen/module.py:1959\u001b[0m, in \u001b[0;36mModule.init_with_output\u001b[0;34m(self, rngs, method, mutable, capture_intermediates, *args, **kwargs)\u001b[0m\n\u001b[1;32m   1957\u001b[0m \u001b[38;5;28;01mif\u001b[39;00m \u001b[38;5;129;01mnot\u001b[39;00m \u001b[38;5;28misinstance\u001b[39m(rngs, \u001b[38;5;28mdict\u001b[39m):\n\u001b[1;32m   1958\u001b[0m   \u001b[38;5;28;01mif\u001b[39;00m \u001b[38;5;129;01mnot\u001b[39;00m core\u001b[38;5;241m.\u001b[39mscope\u001b[38;5;241m.\u001b[39m_is_valid_rng(rngs):\n\u001b[0;32m-> 1959\u001b[0m     \u001b[38;5;28;01mraise\u001b[39;00m errors\u001b[38;5;241m.\u001b[39mInvalidRngError(\n\u001b[1;32m   1960\u001b[0m         \u001b[38;5;124m'\u001b[39m\u001b[38;5;124mRNGs should be of shape (2,) or KeyArray in Module \u001b[39m\u001b[38;5;124m'\u001b[39m\n\u001b[1;32m   1961\u001b[0m         \u001b[38;5;124mf\u001b[39m\u001b[38;5;124m'\u001b[39m\u001b[38;5;132;01m{\u001b[39;00m\u001b[38;5;28mself\u001b[39m\u001b[38;5;241m.\u001b[39m\u001b[38;5;18m__class__\u001b[39m\u001b[38;5;241m.\u001b[39m\u001b[38;5;18m__name__\u001b[39m\u001b[38;5;132;01m}\u001b[39;00m\u001b[38;5;124m, but rngs are: \u001b[39m\u001b[38;5;132;01m{\u001b[39;00mrngs\u001b[38;5;132;01m}\u001b[39;00m\u001b[38;5;124m'\u001b[39m\n\u001b[1;32m   1962\u001b[0m     )\n\u001b[1;32m   1963\u001b[0m   rngs \u001b[38;5;241m=\u001b[39m {\u001b[38;5;124m'\u001b[39m\u001b[38;5;124mparams\u001b[39m\u001b[38;5;124m'\u001b[39m: rngs}\n\u001b[1;32m   1965\u001b[0m \u001b[38;5;28;01mif\u001b[39;00m \u001b[38;5;28misinstance\u001b[39m(method, \u001b[38;5;28mstr\u001b[39m):\n",
      "\u001b[0;31mInvalidRngError\u001b[0m: RNGs should be of shape (2,) or KeyArray in Module NerfMLP, but rngs are: 0.001 (https://flax.readthedocs.io/en/latest/api_reference/flax.errors.html#flax.errors.InvalidRngError)"
     ]
    }
   ],
   "source": [
    "# Evaluating a trained point net model\n",
    "from train_nerf import create_train_state\n",
    "from model import NerfMLP, render_image\n",
    "from datasets import matrix_from_filename\n",
    "from flax.training import checkpoints\n",
    "from jax import random\n",
    "import jax.numpy as jnp\n",
    "import os\n",
    "from PIL import Image\n",
    "import matplotlib.pyplot as plt\n",
    "import numpy as np\n",
    "\n",
    "config = {\n",
    "    \"epochs\": 100,\n",
    "    \"batch_size\": 2048,\n",
    "    \"init_lr\": 5e-5,\n",
    "    \"transition_steps\": 7500,\n",
    "    \"decay_rate\": 0.9,\n",
    "    \"min_lr\": 5e-6,\n",
    "    \"model_dir\": os.path.abspath(\"./checkpoints\")\n",
    "}\n",
    "\n",
    "rng = random.PRNGKey(0)\n",
    "rng, input_rng = random.split(rng)\n",
    "target_state = create_train_state(NerfMLP(), config, input_rng)\n",
    "state = checkpoints.restore_checkpoint(ckpt_dir= os.path.abspath(\"./checkpoints\"), target=target_state)\n",
    "\n",
    "# getting the test set\n",
    "test_names = [\n",
    "    \"2_test_0000\", \"2_test_0016\",\"2_test_0055\", \"2_test_0093\", \"2_test_0160\"\n",
    "]\n",
    "test_poses = [matrix_from_filename(\"bottles/bottles/pose/\" + name + \".txt\") for name in test_names]\n",
    "camera_cal = matrix_from_filename(\"bottles/bottles/intrinsics.txt\")\n",
    "\n",
    "# generating images for the test set\n",
    "for i, pose in enumerate(test_poses):\n",
    "    rng, input_rng = random.split(rng)\n",
    "    rgbd = render_image(state, state.params, pose, camera_cal, jnp.array([800, 800]), rng)\n",
    "    rgbd = np.array(rgbd)\n",
    "    image = (rgbd[:,:,:3] * 255).astype(np.uint8)\n",
    "    Image.fromarray(image).save(\"test_imgs/\" + test_names[i] + \".png\")\n",
    "    plt.imshow(image)\n",
    "    depth = rgbd[:,:,3]\n",
    "    depth = (depth * 255).astype(np.uint8)\n",
    "    plt.imshow(depth)\n",
    "    # Image.fromarray(depth).save(\"test_imgs/\" + test_names[i] + \"_depth.png\")"
   ]
  }
 ],
 "metadata": {
  "kernelspec": {
   "display_name": "Python 3",
   "language": "python",
   "name": "python3"
  },
  "language_info": {
   "codemirror_mode": {
    "name": "ipython",
    "version": 3
   },
   "file_extension": ".py",
   "mimetype": "text/x-python",
   "name": "python",
   "nbconvert_exporter": "python",
   "pygments_lexer": "ipython3",
   "version": "3.10.12"
  }
 },
 "nbformat": 4,
 "nbformat_minor": 2
}
